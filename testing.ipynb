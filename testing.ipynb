{
 "cells": [
  {
   "cell_type": "code",
   "execution_count": null,
   "metadata": {},
   "outputs": [],
   "source": []
  },
  {
   "cell_type": "markdown",
   "metadata": {},
   "source": [
    "## Remote Setup"
   ]
  },
  {
   "cell_type": "markdown",
   "metadata": {},
   "source": [
    "https://github.com/oceanprotocol/ocean.py/blob/main/READMEs/setup-remote.md"
   ]
  },
  {
   "cell_type": "markdown",
   "metadata": {},
   "source": [
    "### Step 2: Setup-remote"
   ]
  },
  {
   "cell_type": "code",
   "execution_count": 2,
   "metadata": {},
   "outputs": [
    {
     "name": "stdout",
     "output_type": "stream",
     "text": [
      "\n",
      "REMOTE_TEST_PRIVATE_KEY1=0xb54acfac67bd484435d60af49804e062645f6f3c7cc67a334cd4f9e312b3bea6, ADDRESS1=0xAd4Cf90611ceD79cf71aDf1f5a61aA613F2199bA\n",
      "REMOTE_TEST_PRIVATE_KEY2=0x5f7f108ad4898898ba5aa33131f4fcd6209411c5afe6b30fb97ec97151cd163b, ADDRESS2=0x3de39598f7FacEC0Ed95597809007d27da1DBed8\n",
      "\n"
     ]
    }
   ],
   "source": [
    "#create evm accounts (one time)\n",
    "\n",
    "from eth_account.account import Account\n",
    "account1 = Account.create()\n",
    "account2 = Account.create()\n",
    "\n",
    "print(f\"\"\"\n",
    "REMOTE_TEST_PRIVATE_KEY1={account1.key.hex()}, ADDRESS1={account1.address}\n",
    "REMOTE_TEST_PRIVATE_KEY2={account2.key.hex()}, ADDRESS2={account2.address}\n",
    "\"\"\")"
   ]
  },
  {
   "cell_type": "markdown",
   "metadata": {},
   "source": [
    "REMOTE_TEST_PRIVATE_KEY1=0xb54acfac67bd484435d60af49804e062645f6f3c7cc67a334cd4f9e312b3bea6, ADDRESS1=0xAd4Cf90611ceD79cf71aDf1f5a61aA613F2199bA\n",
    "REMOTE_TEST_PRIVATE_KEY2=0x5f7f108ad4898898ba5aa33131f4fcd6209411c5afe6b30fb97ec97151cd163b, ADDRESS2=0x3de39598f7FacEC0Ed95597809007d27da1DBed8"
   ]
  },
  {
   "cell_type": "markdown",
   "metadata": {},
   "source": [
    "### Step 5: Set envars"
   ]
  },
  {
   "cell_type": "code",
   "execution_count": 6,
   "metadata": {},
   "outputs": [],
   "source": [
    "import os\n",
    "\n",
    "# Setzen der Umgebungsvariablen\n",
    "os.environ['REMOTE_TEST_PRIVATE_KEY1'] = '0xb54acfac67bd484435d60af49804e062645f6f3c7cc67a334cd4f9e312b3bea6'\n",
    "os.environ['REMOTE_TEST_PRIVATE_KEY2'] = '0x5f7f108ad4898898ba5aa33131f4fcd6209411c5afe6b30fb97ec97151cd163b'\n",
    "os.environ['MUMBAI_RPC_URL'] = 'wss://polygon-mumbai-bor.publicnode.com' # wenns nicht klappt einfach auf 'https://chainlist.org/?search=mumbai&testnets=true' einen anderen RPC-URL suchen\n",
    "\n",
    "# Zugriff auf die Umgebungsvariablen\n",
    "private_key1 = os.environ.get('REMOTE_TEST_PRIVATE_KEY1')\n",
    "private_key2 = os.environ.get('REMOTE_TEST_PRIVATE_KEY2')\n",
    "rpc_url = os.environ.get('MUMBAI_RPC_URL')"
   ]
  },
  {
   "cell_type": "markdown",
   "metadata": {},
   "source": [
    "### Step 6: Set Up in Python"
   ]
  },
  {
   "cell_type": "code",
   "execution_count": 7,
   "metadata": {},
   "outputs": [],
   "source": [
    "# Create Ocean instance\n",
    "import os\n",
    "from ocean_lib.example_config import get_config_dict\n",
    "from ocean_lib.ocean.ocean import Ocean\n",
    "config = get_config_dict(os.getenv(\"MUMBAI_RPC_URL\"))  # you can also input the string directly\n",
    "ocean = Ocean(config)\n",
    "\n",
    "# Create OCEAN object. ocean_lib knows where OCEAN is on all remote networks\n",
    "OCEAN = ocean.OCEAN_token\n",
    "\n",
    "# Create Alice's wallet\n",
    "from eth_account import Account\n",
    "\n",
    "alice_private_key = os.getenv('REMOTE_TEST_PRIVATE_KEY1')\n",
    "alice = Account.from_key(private_key=alice_private_key)\n",
    "assert ocean.wallet_balance(alice) > 0, \"Alice needs MATIC\"\n",
    "assert OCEAN.balanceOf(alice) > 0, \"Alice needs OCEAN\"\n",
    "\n",
    "# Create Bob's wallet. While some flows just use Alice wallet, it's simpler to do all here.\n",
    "bob_private_key = os.getenv('REMOTE_TEST_PRIVATE_KEY2')\n",
    "bob = Account.from_key(private_key=bob_private_key)\n",
    "assert ocean.wallet_balance(bob) > 0, \"Bob needs MATIC\"\n",
    "assert OCEAN.balanceOf(bob) > 0, \"Bob needs OCEAN\"\n",
    "\n",
    "# Compact wei <> eth conversion\n",
    "from ocean_lib.ocean.util import to_wei, from_wei"
   ]
  },
  {
   "cell_type": "markdown",
   "metadata": {},
   "source": [
    "## 2. Main Flow"
   ]
  },
  {
   "cell_type": "code",
   "execution_count": 8,
   "metadata": {},
   "outputs": [
    {
     "name": "stderr",
     "output_type": "stream",
     "text": [
      "INFO:ocean_lib.data_provider.data_encryptor:Asset urls encrypted successfully, encrypted urls str: 0x040904fcb82af8a25e1e85b423d00f38986b0c3c4d8d3fec713d3f445ca3a6cb8efe59c3a4eb53c624a66a2a31028b30bf2de7a2b24d80b9848a5684f2688dfb7f68af62178a089df2f50440a9bd72b9fb3e99c6cb7be8baec2cbeab017cad950b296186c3e48455ffc7b4e710332424bfab38282be054fef11f93a9e41811fdb943b1c8d39c6b83b334b0f9529d6e58a0ab5757bb6a0a3c607846520f461960101deb547d8a93a9e9e7dfccaea48d31b69fae4271821d7169e2633a97ce73168b27e0f777b76b4fa0039c70a734154a657cbe8ec79d6be0e79dc86e6b1063d14d7bf72dad09ada70b46676ceffd6e0b89e2577e19f180a36c8c93d1c3d95588b28ba037d43d3faf73d9137e49b7ead93df85eba194e65b8fa1767b38a79b24fe87f1b61c63aa66d00ab558ce8e62189d096c8e5a964f23aaf9584208e5819, encryptedEndpoint https://v4.provider.mumbai.oceanprotocol.com/api/services/encrypt?chainId=80001\n",
      "INFO:ocean_lib.data_provider.data_encryptor:Asset urls encrypted successfully, encrypted urls str: 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, encryptedEndpoint https://v4.provider.mumbai.oceanprotocol.com/api/services/encrypt?chainId=80001\n"
     ]
    },
    {
     "name": "stdout",
     "output_type": "stream",
     "text": [
      "Just published asset:\n",
      "  data_nft: symbol=<function function_wrapper.<locals>.wrap at 0x0000027002632840>, address=0x82a15D24f6302dA163A4a0124c9f140b74E12352\n",
      "  datatoken: symbol=<function function_wrapper.<locals>.wrap at 0x0000027003790900>, address=0xc5BE3A999341d8EcC14d9761f1Bb52252Db9bEb1\n",
      "  did=did:op:574f283d0efdc5b099c35e31c5839e6f4ac679c0760a9972b0949338c1832e8b\n"
     ]
    }
   ],
   "source": [
    "# 1. Alice publishes a dataset (--> i.e an ocean asset)\n",
    "\n",
    "#data info\n",
    "name = \"Branin dataset\"\n",
    "url = \"https://raw.githubusercontent.com/trentmc/branin/main/branin.arff\"\n",
    "\n",
    "#create data asset\n",
    "(data_nft, datatoken, ddo) = ocean.assets.create_url_asset(name, url, {\"from\": alice})\n",
    "\n",
    "#print\n",
    "print(\"Just published asset:\")\n",
    "print(f\"  data_nft: symbol={data_nft.symbol}, address={data_nft.address}\")\n",
    "print(f\"  datatoken: symbol={datatoken.symbol}, address={datatoken.address}\")\n",
    "print(f\"  did={ddo.did}\")"
   ]
  },
  {
   "cell_type": "code",
   "execution_count": 9,
   "metadata": {},
   "outputs": [
    {
     "data": {
      "text/plain": [
       "AttributeDict({'blockHash': HexBytes('0x2190010d723490885f3c668df0551c7dc90773bf6fc4b374cb68dd3503976a0d'),\n",
       " 'blockNumber': 45681152,\n",
       " 'contractAddress': None,\n",
       " 'cumulativeGasUsed': 9129406,\n",
       " 'effectiveGasPrice': 1500000015,\n",
       " 'from': '0x3de39598f7FacEC0Ed95597809007d27da1DBed8',\n",
       " 'gasUsed': 164620,\n",
       " 'logs': [AttributeDict({'address': '0xd8992Ed72C445c35Cb4A2be468568Ed1079357c8',\n",
       "   'blockHash': HexBytes('0x2190010d723490885f3c668df0551c7dc90773bf6fc4b374cb68dd3503976a0d'),\n",
       "   'blockNumber': 45681152,\n",
       "   'data': HexBytes('0x0000000000000000000000000000000000000000000000056d2aa3a5c09a0000'),\n",
       "   'logIndex': 256,\n",
       "   'removed': False,\n",
       "   'topics': [HexBytes('0xddf252ad1be2c89b69c2b068fc378daa952ba7f163c4a11628f55a4df523b3ef'),\n",
       "    HexBytes('0x0000000000000000000000003de39598f7facec0ed95597809007d27da1dbed8'),\n",
       "    HexBytes('0x00000000000000000000000025e1926e3d57ec0651e89c654ab0fa182c6d5cf7')],\n",
       "   'transactionHash': HexBytes('0xcd4e1ac1f8d298557471cd95fe4a5315ca3eed74c4e75fab40de5835184c6670'),\n",
       "   'transactionIndex': 55}),\n",
       "  AttributeDict({'address': '0xd8992Ed72C445c35Cb4A2be468568Ed1079357c8',\n",
       "   'blockHash': HexBytes('0x2190010d723490885f3c668df0551c7dc90773bf6fc4b374cb68dd3503976a0d'),\n",
       "   'blockNumber': 45681152,\n",
       "   'data': HexBytes('0x0000000000000000000000000000000000000000000000000000000000000000'),\n",
       "   'logIndex': 257,\n",
       "   'removed': False,\n",
       "   'topics': [HexBytes('0x8c5be1e5ebec7d5bd14f71427d1e84f3dd0314c0f7b2291e5b200ac8c7c3b925'),\n",
       "    HexBytes('0x0000000000000000000000003de39598f7facec0ed95597809007d27da1dbed8'),\n",
       "    HexBytes('0x00000000000000000000000025e1926e3d57ec0651e89c654ab0fa182c6d5cf7')],\n",
       "   'transactionHash': HexBytes('0xcd4e1ac1f8d298557471cd95fe4a5315ca3eed74c4e75fab40de5835184c6670'),\n",
       "   'transactionIndex': 55}),\n",
       "  AttributeDict({'address': '0xc5BE3A999341d8EcC14d9761f1Bb52252Db9bEb1',\n",
       "   'blockHash': HexBytes('0x2190010d723490885f3c668df0551c7dc90773bf6fc4b374cb68dd3503976a0d'),\n",
       "   'blockNumber': 45681152,\n",
       "   'data': HexBytes('0x0000000000000000000000000000000000000000000000000de0b6b3a7640000'),\n",
       "   'logIndex': 258,\n",
       "   'removed': False,\n",
       "   'topics': [HexBytes('0xddf252ad1be2c89b69c2b068fc378daa952ba7f163c4a11628f55a4df523b3ef'),\n",
       "    HexBytes('0x0000000000000000000000000000000000000000000000000000000000000000'),\n",
       "    HexBytes('0x0000000000000000000000003de39598f7facec0ed95597809007d27da1dbed8')],\n",
       "   'transactionHash': HexBytes('0xcd4e1ac1f8d298557471cd95fe4a5315ca3eed74c4e75fab40de5835184c6670'),\n",
       "   'transactionIndex': 55}),\n",
       "  AttributeDict({'address': '0x25e1926E3d57eC0651e89C654AB0FA182C6D5CF7',\n",
       "   'blockHash': HexBytes('0x2190010d723490885f3c668df0551c7dc90773bf6fc4b374cb68dd3503976a0d'),\n",
       "   'blockNumber': 45681152,\n",
       "   'data': HexBytes('0x0000000000000000000000000000000000000000000000056d2aa3a5c09a00000000000000000000000000000000000000000000000000000de0b6b3a7640000000000000000000000000000c5be3a999341d8ecc14d9761f1bb52252db9beb10000000000000000000000000000000000000000000000000000000000000000000000000000000000000000000000000000000000000000016345785d8a00000000000000000000000000000000000000000000000000000000000000000000'),\n",
       "   'logIndex': 259,\n",
       "   'removed': False,\n",
       "   'topics': [HexBytes('0x7b072645ce5b6a2fc627a544edee544b786747cafd1bb8f0e3238aa5f2e80646'),\n",
       "    HexBytes('0xd3a4a92e0a0b88c1d50aa642c248c19b18c1c91f96c5fcf287b52242fe426602'),\n",
       "    HexBytes('0x0000000000000000000000003de39598f7facec0ed95597809007d27da1dbed8')],\n",
       "   'transactionHash': HexBytes('0xcd4e1ac1f8d298557471cd95fe4a5315ca3eed74c4e75fab40de5835184c6670'),\n",
       "   'transactionIndex': 55}),\n",
       "  AttributeDict({'address': '0x0000000000000000000000000000000000001010',\n",
       "   'blockHash': HexBytes('0x2190010d723490885f3c668df0551c7dc90773bf6fc4b374cb68dd3503976a0d'),\n",
       "   'blockNumber': 45681152,\n",
       "   'data': HexBytes('0x0000000000000000000000000000000000000000000000000000e094deef340000000000000000000000000000000000000000000000000002c5e38702fb97e5000000000000000000000000000000000000000000000614416b4c93e686705200000000000000000000000000000000000000000000000002c502f2240c63e5000000000000000000000000000000000000000000000614416c2d28c575a452'),\n",
       "   'logIndex': 260,\n",
       "   'removed': False,\n",
       "   'topics': [HexBytes('0x4dfe1bbbcf077ddc3e01291eea2d5c70c2b422b415d95645b9adcfd678cb1d63'),\n",
       "    HexBytes('0x0000000000000000000000000000000000000000000000000000000000001010'),\n",
       "    HexBytes('0x0000000000000000000000003de39598f7facec0ed95597809007d27da1dbed8'),\n",
       "    HexBytes('0x0000000000000000000000005082f249cdb2f2c1ee035e4f423c46ea2dab3ab1')],\n",
       "   'transactionHash': HexBytes('0xcd4e1ac1f8d298557471cd95fe4a5315ca3eed74c4e75fab40de5835184c6670'),\n",
       "   'transactionIndex': 55})],\n",
       " 'logsBloom': HexBytes('0x00000100040000000000000080080000000000000001000000000000020000000008000002000000000000000000000000008000000000000000000000200000000008000000000000000008000000800000000000000000000120000002000000008000020000000000000000000800000000000000000080000010000000000000000000000000000000000100000002000000000000000000000000000000220000000000000000000000020800400000000000200000000000000000004000000002000000000001000000000000000000000004100000100000000020000010000002000080000000000000020000000000000000000000000000100000'),\n",
       " 'status': 1,\n",
       " 'to': '0x25e1926E3d57eC0651e89C654AB0FA182C6D5CF7',\n",
       " 'transactionHash': HexBytes('0xcd4e1ac1f8d298557471cd95fe4a5315ca3eed74c4e75fab40de5835184c6670'),\n",
       " 'transactionIndex': 55,\n",
       " 'type': 2})"
      ]
     },
     "execution_count": 9,
     "metadata": {},
     "output_type": "execute_result"
    }
   ],
   "source": [
    "# 2. Bob gets access to the dataset\n",
    "\n",
    "from ocean_lib.ocean.util import to_wei\n",
    "\n",
    "#Approach A: Alice mints datatokens to Bob\n",
    "datatoken.mint(bob, to_wei(1), {\"from\": alice})\n",
    "\n",
    "#Approach B: Alice mints for herself, and transfers to Bob\n",
    "datatoken.mint(alice, to_wei(1), {\"from\": alice})\n",
    "datatoken.transfer(bob, to_wei(1), {\"from\": alice})\n",
    "\n",
    "#Approach C: Alice posts for free, via a dispenser / faucet; Bob requests & gets\n",
    "datatoken.create_dispenser({\"from\": alice})\n",
    "datatoken.dispense(to_wei(1), {\"from\": bob})\n",
    "\n",
    "#Approach D: Alice posts for sale; Bob buys\n",
    "# D.1 Alice creates exchange\n",
    "price = to_wei(100)\n",
    "exchange = datatoken.create_exchange({\"from\": alice}, price, ocean.OCEAN_address)\n",
    "\n",
    "# D.2 Alice makes 100 datatokens available on the exchange\n",
    "datatoken.mint(alice, to_wei(100), {\"from\": alice})\n",
    "datatoken.approve(exchange.address, to_wei(100), {\"from\": alice})\n",
    "\n",
    "# D.3 Bob lets exchange pull the OCEAN needed\n",
    "OCEAN_needed = exchange.BT_needed(to_wei(1), consume_market_fee=0)\n",
    "ocean.OCEAN_token.approve(exchange.address, OCEAN_needed, {\"from\":bob})\n",
    "\n",
    "# D.4 Bob buys datatoken\n",
    "exchange.buy_DT(to_wei(1), consume_market_fee=0, tx_dict={\"from\": bob})\n"
   ]
  },
  {
   "cell_type": "code",
   "execution_count": 11,
   "metadata": {},
   "outputs": [
    {
     "ename": "TypeError",
     "evalue": "typing.Any cannot be used with isinstance()",
     "output_type": "error",
     "traceback": [
      "\u001b[1;31m---------------------------------------------------------------------------\u001b[0m",
      "\u001b[1;31mTypeError\u001b[0m                                 Traceback (most recent call last)",
      "Cell \u001b[1;32mIn[11], line 4\u001b[0m\n\u001b[0;32m      1\u001b[0m \u001b[38;5;66;03m# 3. Bob consumes the dataset\u001b[39;00m\n\u001b[0;32m      2\u001b[0m \n\u001b[0;32m      3\u001b[0m \u001b[38;5;66;03m# Bob sends a datatoken to the service to get access\u001b[39;00m\n\u001b[1;32m----> 4\u001b[0m order_tx_id \u001b[38;5;241m=\u001b[39m \u001b[43mocean\u001b[49m\u001b[38;5;241;43m.\u001b[39;49m\u001b[43massets\u001b[49m\u001b[38;5;241;43m.\u001b[39;49m\u001b[43mpay_for_access_service\u001b[49m\u001b[43m(\u001b[49m\u001b[43mddo\u001b[49m\u001b[43m,\u001b[49m\u001b[43m \u001b[49m\u001b[43m{\u001b[49m\u001b[38;5;124;43m\"\u001b[39;49m\u001b[38;5;124;43mfrom\u001b[39;49m\u001b[38;5;124;43m\"\u001b[39;49m\u001b[43m:\u001b[49m\u001b[43m \u001b[49m\u001b[43mbob\u001b[49m\u001b[43m}\u001b[49m\u001b[43m)\u001b[49m\u001b[38;5;241m.\u001b[39mhex()\n\u001b[0;32m      6\u001b[0m \u001b[38;5;66;03m# Bob downloads the file. If the connection breaks, Bob can try again\u001b[39;00m\n\u001b[0;32m      7\u001b[0m asset_dir \u001b[38;5;241m=\u001b[39m ocean\u001b[38;5;241m.\u001b[39massets\u001b[38;5;241m.\u001b[39mdownload_asset(ddo, bob, \u001b[38;5;124m'\u001b[39m\u001b[38;5;124m./\u001b[39m\u001b[38;5;124m'\u001b[39m, order_tx_id)\n",
      "File \u001b[1;32mc:\\PythonVenv\\DataUnion\\Venv\\Lib\\site-packages\\enforce_typing\\decorator.py:29\u001b[0m, in \u001b[0;36menforce_types.<locals>.decorate.<locals>.wrapper\u001b[1;34m(*args, **kwargs)\u001b[0m\n\u001b[0;32m     26\u001b[0m \u001b[38;5;129m@wraps\u001b[39m(func)\n\u001b[0;32m     27\u001b[0m \u001b[38;5;28;01mdef\u001b[39;00m \u001b[38;5;21mwrapper\u001b[39m(\u001b[38;5;241m*\u001b[39margs, \u001b[38;5;241m*\u001b[39m\u001b[38;5;241m*\u001b[39mkwargs):\n\u001b[0;32m     28\u001b[0m     check_types(\u001b[38;5;241m*\u001b[39margs, \u001b[38;5;241m*\u001b[39m\u001b[38;5;241m*\u001b[39mkwargs)\n\u001b[1;32m---> 29\u001b[0m     \u001b[38;5;28;01mreturn\u001b[39;00m \u001b[43mfunc\u001b[49m\u001b[43m(\u001b[49m\u001b[38;5;241;43m*\u001b[39;49m\u001b[43margs\u001b[49m\u001b[43m,\u001b[49m\u001b[43m \u001b[49m\u001b[38;5;241;43m*\u001b[39;49m\u001b[38;5;241;43m*\u001b[39;49m\u001b[43mkwargs\u001b[49m\u001b[43m)\u001b[49m\n",
      "File \u001b[1;32mc:\\PythonVenv\\DataUnion\\Venv\\Lib\\site-packages\\ocean_lib\\ocean\\ocean_assets.py:703\u001b[0m, in \u001b[0;36mOceanAssets.pay_for_access_service\u001b[1;34m(self, ddo, tx_dict, service, consume_market_fees, consumer_address, userdata, consume_market_swap_fee_amount, consume_market_swap_fee_address)\u001b[0m\n\u001b[0;32m    695\u001b[0m data_provider \u001b[38;5;241m=\u001b[39m DataServiceProvider\n\u001b[0;32m    697\u001b[0m initialize_args \u001b[38;5;241m=\u001b[39m {\n\u001b[0;32m    698\u001b[0m     \u001b[38;5;124m\"\u001b[39m\u001b[38;5;124mdid\u001b[39m\u001b[38;5;124m\"\u001b[39m: ddo\u001b[38;5;241m.\u001b[39mdid,\n\u001b[0;32m    699\u001b[0m     \u001b[38;5;124m\"\u001b[39m\u001b[38;5;124mservice\u001b[39m\u001b[38;5;124m\"\u001b[39m: service,\n\u001b[0;32m    700\u001b[0m     \u001b[38;5;124m\"\u001b[39m\u001b[38;5;124mconsumer_address\u001b[39m\u001b[38;5;124m\"\u001b[39m: consumer_address,\n\u001b[0;32m    701\u001b[0m }\n\u001b[1;32m--> 703\u001b[0m initialize_response \u001b[38;5;241m=\u001b[39m \u001b[43mdata_provider\u001b[49m\u001b[38;5;241;43m.\u001b[39;49m\u001b[43minitialize\u001b[49m\u001b[43m(\u001b[49m\u001b[38;5;241;43m*\u001b[39;49m\u001b[38;5;241;43m*\u001b[39;49m\u001b[43minitialize_args\u001b[49m\u001b[43m)\u001b[49m\n\u001b[0;32m    704\u001b[0m provider_fees \u001b[38;5;241m=\u001b[39m initialize_response\u001b[38;5;241m.\u001b[39mjson()[\u001b[38;5;124m\"\u001b[39m\u001b[38;5;124mproviderFee\u001b[39m\u001b[38;5;124m\"\u001b[39m]\n\u001b[0;32m    706\u001b[0m params \u001b[38;5;241m=\u001b[39m {\n\u001b[0;32m    707\u001b[0m     \u001b[38;5;124m\"\u001b[39m\u001b[38;5;124mconsumer\u001b[39m\u001b[38;5;124m\"\u001b[39m: consumer_address,\n\u001b[0;32m    708\u001b[0m     \u001b[38;5;124m\"\u001b[39m\u001b[38;5;124mservice_index\u001b[39m\u001b[38;5;124m\"\u001b[39m: ddo\u001b[38;5;241m.\u001b[39mget_index_of_service(service),\n\u001b[1;32m   (...)\u001b[0m\n\u001b[0;32m    711\u001b[0m     \u001b[38;5;124m\"\u001b[39m\u001b[38;5;124mtx_dict\u001b[39m\u001b[38;5;124m\"\u001b[39m: tx_dict,\n\u001b[0;32m    712\u001b[0m }\n",
      "File \u001b[1;32mc:\\PythonVenv\\DataUnion\\Venv\\Lib\\site-packages\\enforce_typing\\decorator.py:28\u001b[0m, in \u001b[0;36menforce_types.<locals>.decorate.<locals>.wrapper\u001b[1;34m(*args, **kwargs)\u001b[0m\n\u001b[0;32m     26\u001b[0m \u001b[38;5;129m@wraps\u001b[39m(func)\n\u001b[0;32m     27\u001b[0m \u001b[38;5;28;01mdef\u001b[39;00m \u001b[38;5;21mwrapper\u001b[39m(\u001b[38;5;241m*\u001b[39margs, \u001b[38;5;241m*\u001b[39m\u001b[38;5;241m*\u001b[39mkwargs):\n\u001b[1;32m---> 28\u001b[0m     \u001b[43mcheck_types\u001b[49m\u001b[43m(\u001b[49m\u001b[38;5;241;43m*\u001b[39;49m\u001b[43margs\u001b[49m\u001b[43m,\u001b[49m\u001b[43m \u001b[49m\u001b[38;5;241;43m*\u001b[39;49m\u001b[38;5;241;43m*\u001b[39;49m\u001b[43mkwargs\u001b[49m\u001b[43m)\u001b[49m\n\u001b[0;32m     29\u001b[0m     \u001b[38;5;28;01mreturn\u001b[39;00m func(\u001b[38;5;241m*\u001b[39margs, \u001b[38;5;241m*\u001b[39m\u001b[38;5;241m*\u001b[39mkwargs)\n",
      "File \u001b[1;32mc:\\PythonVenv\\DataUnion\\Venv\\Lib\\site-packages\\enforce_typing\\decorator.py:20\u001b[0m, in \u001b[0;36menforce_types.<locals>.check_types\u001b[1;34m(*args, **kwargs)\u001b[0m\n\u001b[0;32m     18\u001b[0m actual_type \u001b[38;5;241m=\u001b[39m \u001b[38;5;28mgetattr\u001b[39m(type_hint, \u001b[38;5;124m\"\u001b[39m\u001b[38;5;124m__origin__\u001b[39m\u001b[38;5;124m\"\u001b[39m, type_hint)\n\u001b[0;32m     19\u001b[0m actual_type \u001b[38;5;241m=\u001b[39m type_hint\u001b[38;5;241m.\u001b[39m__args__ \u001b[38;5;28;01mif\u001b[39;00m \u001b[38;5;28misinstance\u001b[39m(actual_type, typing\u001b[38;5;241m.\u001b[39m_SpecialForm) \u001b[38;5;28;01melse\u001b[39;00m actual_type\n\u001b[1;32m---> 20\u001b[0m \u001b[38;5;28;01mif\u001b[39;00m \u001b[38;5;129;01mnot\u001b[39;00m \u001b[38;5;28misinstance\u001b[39m(value, actual_type):\n\u001b[0;32m     21\u001b[0m     \u001b[38;5;28;01mraise\u001b[39;00m \u001b[38;5;167;01mTypeError\u001b[39;00m(\n\u001b[0;32m     22\u001b[0m         \u001b[38;5;124mf\u001b[39m\u001b[38;5;124m\"\u001b[39m\u001b[38;5;124mExpected type \u001b[39m\u001b[38;5;124m'\u001b[39m\u001b[38;5;132;01m{\u001b[39;00mtype_hint\u001b[38;5;132;01m}\u001b[39;00m\u001b[38;5;124m'\u001b[39m\u001b[38;5;124m for attribute \u001b[39m\u001b[38;5;124m'\u001b[39m\u001b[38;5;132;01m{\u001b[39;00mname\u001b[38;5;132;01m}\u001b[39;00m\u001b[38;5;124m'\u001b[39m\u001b[38;5;124m but received type \u001b[39m\u001b[38;5;124m'\u001b[39m\u001b[38;5;132;01m{\u001b[39;00m\u001b[38;5;28mtype\u001b[39m(value)\u001b[38;5;132;01m}\u001b[39;00m\u001b[38;5;124m'\u001b[39m\u001b[38;5;124m)\u001b[39m\u001b[38;5;124m\"\u001b[39m\n\u001b[0;32m     23\u001b[0m     )\n",
      "File \u001b[1;32m~\\AppData\\Local\\Programs\\Python\\Python311\\Lib\\typing.py:494\u001b[0m, in \u001b[0;36m_AnyMeta.__instancecheck__\u001b[1;34m(self, obj)\u001b[0m\n\u001b[0;32m    492\u001b[0m \u001b[38;5;28;01mdef\u001b[39;00m \u001b[38;5;21m__instancecheck__\u001b[39m(\u001b[38;5;28mself\u001b[39m, obj):\n\u001b[0;32m    493\u001b[0m     \u001b[38;5;28;01mif\u001b[39;00m \u001b[38;5;28mself\u001b[39m \u001b[38;5;129;01mis\u001b[39;00m Any:\n\u001b[1;32m--> 494\u001b[0m         \u001b[38;5;28;01mraise\u001b[39;00m \u001b[38;5;167;01mTypeError\u001b[39;00m(\u001b[38;5;124m\"\u001b[39m\u001b[38;5;124mtyping.Any cannot be used with isinstance()\u001b[39m\u001b[38;5;124m\"\u001b[39m)\n\u001b[0;32m    495\u001b[0m     \u001b[38;5;28;01mreturn\u001b[39;00m \u001b[38;5;28msuper\u001b[39m()\u001b[38;5;241m.\u001b[39m\u001b[38;5;21m__instancecheck__\u001b[39m(obj)\n",
      "\u001b[1;31mTypeError\u001b[0m: typing.Any cannot be used with isinstance()"
     ]
    }
   ],
   "source": [
    "# 3. Bob consumes the dataset\n",
    "\n",
    "# Bob sends a datatoken to the service to get access\n",
    "order_tx_id = ocean.assets.pay_for_access_service(ddo, {\"from\": bob}).hex()\n",
    "\n",
    "# Bob downloads the file. If the connection breaks, Bob can try again\n",
    "asset_dir = ocean.assets.download_asset(ddo, bob, './', order_tx_id)\n",
    "\n",
    "import os\n",
    "file_name = os.path.join(asset_dir, \"file0\")"
   ]
  },
  {
   "cell_type": "code",
   "execution_count": 14,
   "metadata": {},
   "outputs": [
    {
     "ename": "TypeError",
     "evalue": "typing.Any cannot be used with isinstance()",
     "output_type": "error",
     "traceback": [
      "\u001b[1;31m---------------------------------------------------------------------------\u001b[0m",
      "\u001b[1;31mTypeError\u001b[0m                                 Traceback (most recent call last)",
      "Cell \u001b[1;32mIn[14], line 2\u001b[0m\n\u001b[0;32m      1\u001b[0m \u001b[38;5;66;03m# Bob sends a datatoken to the service to get access\u001b[39;00m\n\u001b[1;32m----> 2\u001b[0m order_tx_id \u001b[38;5;241m=\u001b[39m \u001b[43mocean\u001b[49m\u001b[38;5;241;43m.\u001b[39;49m\u001b[43massets\u001b[49m\u001b[38;5;241;43m.\u001b[39;49m\u001b[43mpay_for_access_service\u001b[49m\u001b[43m(\u001b[49m\u001b[43mddo\u001b[49m\u001b[43m,\u001b[49m\u001b[43m \u001b[49m\u001b[43m{\u001b[49m\u001b[38;5;124;43m\"\u001b[39;49m\u001b[38;5;124;43mfrom\u001b[39;49m\u001b[38;5;124;43m\"\u001b[39;49m\u001b[43m:\u001b[49m\u001b[43m \u001b[49m\u001b[43mbob\u001b[49m\u001b[43m}\u001b[49m\u001b[43m)\u001b[49m\u001b[38;5;241m.\u001b[39mhex()\n",
      "File \u001b[1;32mc:\\PythonVenv\\DataUnion\\Venv\\Lib\\site-packages\\enforce_typing\\decorator.py:29\u001b[0m, in \u001b[0;36menforce_types.<locals>.decorate.<locals>.wrapper\u001b[1;34m(*args, **kwargs)\u001b[0m\n\u001b[0;32m     26\u001b[0m \u001b[38;5;129m@wraps\u001b[39m(func)\n\u001b[0;32m     27\u001b[0m \u001b[38;5;28;01mdef\u001b[39;00m \u001b[38;5;21mwrapper\u001b[39m(\u001b[38;5;241m*\u001b[39margs, \u001b[38;5;241m*\u001b[39m\u001b[38;5;241m*\u001b[39mkwargs):\n\u001b[0;32m     28\u001b[0m     check_types(\u001b[38;5;241m*\u001b[39margs, \u001b[38;5;241m*\u001b[39m\u001b[38;5;241m*\u001b[39mkwargs)\n\u001b[1;32m---> 29\u001b[0m     \u001b[38;5;28;01mreturn\u001b[39;00m \u001b[43mfunc\u001b[49m\u001b[43m(\u001b[49m\u001b[38;5;241;43m*\u001b[39;49m\u001b[43margs\u001b[49m\u001b[43m,\u001b[49m\u001b[43m \u001b[49m\u001b[38;5;241;43m*\u001b[39;49m\u001b[38;5;241;43m*\u001b[39;49m\u001b[43mkwargs\u001b[49m\u001b[43m)\u001b[49m\n",
      "File \u001b[1;32mc:\\PythonVenv\\DataUnion\\Venv\\Lib\\site-packages\\ocean_lib\\ocean\\ocean_assets.py:703\u001b[0m, in \u001b[0;36mOceanAssets.pay_for_access_service\u001b[1;34m(self, ddo, tx_dict, service, consume_market_fees, consumer_address, userdata, consume_market_swap_fee_amount, consume_market_swap_fee_address)\u001b[0m\n\u001b[0;32m    695\u001b[0m data_provider \u001b[38;5;241m=\u001b[39m DataServiceProvider\n\u001b[0;32m    697\u001b[0m initialize_args \u001b[38;5;241m=\u001b[39m {\n\u001b[0;32m    698\u001b[0m     \u001b[38;5;124m\"\u001b[39m\u001b[38;5;124mdid\u001b[39m\u001b[38;5;124m\"\u001b[39m: ddo\u001b[38;5;241m.\u001b[39mdid,\n\u001b[0;32m    699\u001b[0m     \u001b[38;5;124m\"\u001b[39m\u001b[38;5;124mservice\u001b[39m\u001b[38;5;124m\"\u001b[39m: service,\n\u001b[0;32m    700\u001b[0m     \u001b[38;5;124m\"\u001b[39m\u001b[38;5;124mconsumer_address\u001b[39m\u001b[38;5;124m\"\u001b[39m: consumer_address,\n\u001b[0;32m    701\u001b[0m }\n\u001b[1;32m--> 703\u001b[0m initialize_response \u001b[38;5;241m=\u001b[39m \u001b[43mdata_provider\u001b[49m\u001b[38;5;241;43m.\u001b[39;49m\u001b[43minitialize\u001b[49m\u001b[43m(\u001b[49m\u001b[38;5;241;43m*\u001b[39;49m\u001b[38;5;241;43m*\u001b[39;49m\u001b[43minitialize_args\u001b[49m\u001b[43m)\u001b[49m\n\u001b[0;32m    704\u001b[0m provider_fees \u001b[38;5;241m=\u001b[39m initialize_response\u001b[38;5;241m.\u001b[39mjson()[\u001b[38;5;124m\"\u001b[39m\u001b[38;5;124mproviderFee\u001b[39m\u001b[38;5;124m\"\u001b[39m]\n\u001b[0;32m    706\u001b[0m params \u001b[38;5;241m=\u001b[39m {\n\u001b[0;32m    707\u001b[0m     \u001b[38;5;124m\"\u001b[39m\u001b[38;5;124mconsumer\u001b[39m\u001b[38;5;124m\"\u001b[39m: consumer_address,\n\u001b[0;32m    708\u001b[0m     \u001b[38;5;124m\"\u001b[39m\u001b[38;5;124mservice_index\u001b[39m\u001b[38;5;124m\"\u001b[39m: ddo\u001b[38;5;241m.\u001b[39mget_index_of_service(service),\n\u001b[1;32m   (...)\u001b[0m\n\u001b[0;32m    711\u001b[0m     \u001b[38;5;124m\"\u001b[39m\u001b[38;5;124mtx_dict\u001b[39m\u001b[38;5;124m\"\u001b[39m: tx_dict,\n\u001b[0;32m    712\u001b[0m }\n",
      "File \u001b[1;32mc:\\PythonVenv\\DataUnion\\Venv\\Lib\\site-packages\\enforce_typing\\decorator.py:28\u001b[0m, in \u001b[0;36menforce_types.<locals>.decorate.<locals>.wrapper\u001b[1;34m(*args, **kwargs)\u001b[0m\n\u001b[0;32m     26\u001b[0m \u001b[38;5;129m@wraps\u001b[39m(func)\n\u001b[0;32m     27\u001b[0m \u001b[38;5;28;01mdef\u001b[39;00m \u001b[38;5;21mwrapper\u001b[39m(\u001b[38;5;241m*\u001b[39margs, \u001b[38;5;241m*\u001b[39m\u001b[38;5;241m*\u001b[39mkwargs):\n\u001b[1;32m---> 28\u001b[0m     \u001b[43mcheck_types\u001b[49m\u001b[43m(\u001b[49m\u001b[38;5;241;43m*\u001b[39;49m\u001b[43margs\u001b[49m\u001b[43m,\u001b[49m\u001b[43m \u001b[49m\u001b[38;5;241;43m*\u001b[39;49m\u001b[38;5;241;43m*\u001b[39;49m\u001b[43mkwargs\u001b[49m\u001b[43m)\u001b[49m\n\u001b[0;32m     29\u001b[0m     \u001b[38;5;28;01mreturn\u001b[39;00m func(\u001b[38;5;241m*\u001b[39margs, \u001b[38;5;241m*\u001b[39m\u001b[38;5;241m*\u001b[39mkwargs)\n",
      "File \u001b[1;32mc:\\PythonVenv\\DataUnion\\Venv\\Lib\\site-packages\\enforce_typing\\decorator.py:20\u001b[0m, in \u001b[0;36menforce_types.<locals>.check_types\u001b[1;34m(*args, **kwargs)\u001b[0m\n\u001b[0;32m     18\u001b[0m actual_type \u001b[38;5;241m=\u001b[39m \u001b[38;5;28mgetattr\u001b[39m(type_hint, \u001b[38;5;124m\"\u001b[39m\u001b[38;5;124m__origin__\u001b[39m\u001b[38;5;124m\"\u001b[39m, type_hint)\n\u001b[0;32m     19\u001b[0m actual_type \u001b[38;5;241m=\u001b[39m type_hint\u001b[38;5;241m.\u001b[39m__args__ \u001b[38;5;28;01mif\u001b[39;00m \u001b[38;5;28misinstance\u001b[39m(actual_type, typing\u001b[38;5;241m.\u001b[39m_SpecialForm) \u001b[38;5;28;01melse\u001b[39;00m actual_type\n\u001b[1;32m---> 20\u001b[0m \u001b[38;5;28;01mif\u001b[39;00m \u001b[38;5;129;01mnot\u001b[39;00m \u001b[38;5;28misinstance\u001b[39m(value, actual_type):\n\u001b[0;32m     21\u001b[0m     \u001b[38;5;28;01mraise\u001b[39;00m \u001b[38;5;167;01mTypeError\u001b[39;00m(\n\u001b[0;32m     22\u001b[0m         \u001b[38;5;124mf\u001b[39m\u001b[38;5;124m\"\u001b[39m\u001b[38;5;124mExpected type \u001b[39m\u001b[38;5;124m'\u001b[39m\u001b[38;5;132;01m{\u001b[39;00mtype_hint\u001b[38;5;132;01m}\u001b[39;00m\u001b[38;5;124m'\u001b[39m\u001b[38;5;124m for attribute \u001b[39m\u001b[38;5;124m'\u001b[39m\u001b[38;5;132;01m{\u001b[39;00mname\u001b[38;5;132;01m}\u001b[39;00m\u001b[38;5;124m'\u001b[39m\u001b[38;5;124m but received type \u001b[39m\u001b[38;5;124m'\u001b[39m\u001b[38;5;132;01m{\u001b[39;00m\u001b[38;5;28mtype\u001b[39m(value)\u001b[38;5;132;01m}\u001b[39;00m\u001b[38;5;124m'\u001b[39m\u001b[38;5;124m)\u001b[39m\u001b[38;5;124m\"\u001b[39m\n\u001b[0;32m     23\u001b[0m     )\n",
      "File \u001b[1;32m~\\AppData\\Local\\Programs\\Python\\Python311\\Lib\\typing.py:494\u001b[0m, in \u001b[0;36m_AnyMeta.__instancecheck__\u001b[1;34m(self, obj)\u001b[0m\n\u001b[0;32m    492\u001b[0m \u001b[38;5;28;01mdef\u001b[39;00m \u001b[38;5;21m__instancecheck__\u001b[39m(\u001b[38;5;28mself\u001b[39m, obj):\n\u001b[0;32m    493\u001b[0m     \u001b[38;5;28;01mif\u001b[39;00m \u001b[38;5;28mself\u001b[39m \u001b[38;5;129;01mis\u001b[39;00m Any:\n\u001b[1;32m--> 494\u001b[0m         \u001b[38;5;28;01mraise\u001b[39;00m \u001b[38;5;167;01mTypeError\u001b[39;00m(\u001b[38;5;124m\"\u001b[39m\u001b[38;5;124mtyping.Any cannot be used with isinstance()\u001b[39m\u001b[38;5;124m\"\u001b[39m)\n\u001b[0;32m    495\u001b[0m     \u001b[38;5;28;01mreturn\u001b[39;00m \u001b[38;5;28msuper\u001b[39m()\u001b[38;5;241m.\u001b[39m\u001b[38;5;21m__instancecheck__\u001b[39m(obj)\n",
      "\u001b[1;31mTypeError\u001b[0m: typing.Any cannot be used with isinstance()"
     ]
    }
   ],
   "source": [
    "# Bob sends a datatoken to the service to get access\n",
    "order_tx_id = ocean.assets.pay_for_access_service(ddo, {\"from\": bob}).hex()"
   ]
  },
  {
   "cell_type": "code",
   "execution_count": null,
   "metadata": {},
   "outputs": [],
   "source": []
  },
  {
   "cell_type": "code",
   "execution_count": 13,
   "metadata": {},
   "outputs": [],
   "source": [
    "import os\n",
    "#lets check that the file is downloaded\n",
    "\n",
    "# Change directory\n",
    "os.chdir('my_project')\n",
    "\n",
    "# Read the file\n",
    "with open('datafile.did:op:*', 'r') as file:\n",
    "    content = file.read()\n",
    "\n",
    "print(content)\n"
   ]
  },
  {
   "cell_type": "code",
   "execution_count": null,
   "metadata": {},
   "outputs": [],
   "source": []
  },
  {
   "cell_type": "code",
   "execution_count": null,
   "metadata": {},
   "outputs": [],
   "source": []
  }
 ],
 "metadata": {
  "kernelspec": {
   "display_name": "Venv",
   "language": "python",
   "name": "python3"
  },
  "language_info": {
   "codemirror_mode": {
    "name": "ipython",
    "version": 3
   },
   "file_extension": ".py",
   "mimetype": "text/x-python",
   "name": "python",
   "nbconvert_exporter": "python",
   "pygments_lexer": "ipython3",
   "version": "3.11.5"
  }
 },
 "nbformat": 4,
 "nbformat_minor": 2
}
