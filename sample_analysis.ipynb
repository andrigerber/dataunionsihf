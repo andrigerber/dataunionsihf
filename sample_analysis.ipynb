{
 "cells": [
  {
   "cell_type": "markdown",
   "metadata": {},
   "source": [
    "# Sample Analysis with Example Data"
   ]
  },
  {
   "cell_type": "markdown",
   "metadata": {},
   "source": [
    "## Einleitung"
   ]
  },
  {
   "cell_type": "markdown",
   "metadata": {},
   "source": [
    "In dieser Analyse betrachten wir die Shift-Daten von Eishockeyspielern anhand von Beispieldaten eines Event Exports des Anbieters Kinexon, um Einblicke in die Spielstrategien und die Leistung der Spieler zu gewinnen. \n",
    "\n",
    "Durch die Untersuchung von Shift-Längen, Intensitäten und Pausen zwischen den Shifts können wir die Ausdauer und Effektivität der Spieler im Verlauf des Spiels bewerten. Die Nutzung von `utils.py` ermöglicht uns eine effiziente Datenverarbeitung und Visualisierung.\n",
    "\n",
    "Ziel dieses Notebooks ist es, potenziellen Nutzer des Algorithmus einen Einblick in die Art der durchgeführten Analysen und die daraus resultierenden Erkenntnisse zu geben.\n"
   ]
  },
  {
   "cell_type": "markdown",
   "metadata": {},
   "source": [
    "## 1. Data Loading"
   ]
  },
  {
   "cell_type": "markdown",
   "metadata": {},
   "source": [
    "Zuerst laden wir die Shift-Daten mit der Funktion `read_file`. Diese Funktion extrahiert die relevanten Informationen aus den exportierten Event-Daten und bereitet sie für die Analyse vor.\n"
   ]
  },
  {
   "cell_type": "code",
   "execution_count": 2,
   "metadata": {},
   "outputs": [],
   "source": [
    "# Zugriff auf die Funktionen in utils.py\n",
    "import utils\n",
    "\n",
    "# import der notwendigen Funktionen für Data Loading\n",
    "from utils import read_file"
   ]
  },
  {
   "cell_type": "code",
   "execution_count": 3,
   "metadata": {},
   "outputs": [
    {
     "data": {
      "text/html": [
       "<div>\n",
       "<style scoped>\n",
       "    .dataframe tbody tr th:only-of-type {\n",
       "        vertical-align: middle;\n",
       "    }\n",
       "\n",
       "    .dataframe tbody tr th {\n",
       "        vertical-align: top;\n",
       "    }\n",
       "\n",
       "    .dataframe thead th {\n",
       "        text-align: right;\n",
       "    }\n",
       "</style>\n",
       "<table border=\"1\" class=\"dataframe\">\n",
       "  <thead>\n",
       "    <tr style=\"text-align: right;\">\n",
       "      <th></th>\n",
       "      <th>Timestamp (ms)</th>\n",
       "      <th>Timestamp in local format</th>\n",
       "      <th>Player ID</th>\n",
       "      <th>Name</th>\n",
       "      <th>Event type</th>\n",
       "      <th>Duration (s)</th>\n",
       "      <th>Distance</th>\n",
       "      <th>Distance (speed | Very low)</th>\n",
       "      <th>Distance (speed | Low)</th>\n",
       "      <th>Distance (speed | Medium)</th>\n",
       "      <th>Distance (speed | High)</th>\n",
       "      <th>Distance (speed | Very high)</th>\n",
       "      <th>Distance (speed | Sprint)</th>\n",
       "      <th>Distance (speed | 0 - 0 km/h)</th>\n",
       "      <th>Metabolic Power (Ø)</th>\n",
       "      <th>Speed (max.)</th>\n",
       "      <th>Skating Load</th>\n",
       "      <th>Skating Intensity</th>\n",
       "    </tr>\n",
       "  </thead>\n",
       "  <tbody>\n",
       "    <tr>\n",
       "      <th>0</th>\n",
       "      <td>1670697995000</td>\n",
       "      <td>12/10/2022;07:46:35.000 PM</td>\n",
       "      <td>438</td>\n",
       "      <td>D TEST</td>\n",
       "      <td>Shift</td>\n",
       "      <td>34.707001</td>\n",
       "      <td>114.0</td>\n",
       "      <td>29.0</td>\n",
       "      <td>15</td>\n",
       "      <td>25</td>\n",
       "      <td>36</td>\n",
       "      <td>9</td>\n",
       "      <td>0.0</td>\n",
       "      <td>NaN</td>\n",
       "      <td>337.08</td>\n",
       "      <td>22.60</td>\n",
       "      <td>21.67</td>\n",
       "      <td>37.45</td>\n",
       "    </tr>\n",
       "    <tr>\n",
       "      <th>1</th>\n",
       "      <td>1670697995000</td>\n",
       "      <td>12/10/2022;07:46:35.000 PM</td>\n",
       "      <td>443</td>\n",
       "      <td>D TEST</td>\n",
       "      <td>Shift</td>\n",
       "      <td>43.952999</td>\n",
       "      <td>177.0</td>\n",
       "      <td>25.0</td>\n",
       "      <td>21</td>\n",
       "      <td>39</td>\n",
       "      <td>51</td>\n",
       "      <td>36</td>\n",
       "      <td>4.0</td>\n",
       "      <td>NaN</td>\n",
       "      <td>413.47</td>\n",
       "      <td>24.34</td>\n",
       "      <td>28.74</td>\n",
       "      <td>39.24</td>\n",
       "    </tr>\n",
       "    <tr>\n",
       "      <th>4</th>\n",
       "      <td>1670697995000</td>\n",
       "      <td>12/10/2022;07:46:35.000 PM</td>\n",
       "      <td>470</td>\n",
       "      <td>D3 Guest</td>\n",
       "      <td>Shift</td>\n",
       "      <td>82.765999</td>\n",
       "      <td>288.0</td>\n",
       "      <td>45.0</td>\n",
       "      <td>83</td>\n",
       "      <td>70</td>\n",
       "      <td>87</td>\n",
       "      <td>3</td>\n",
       "      <td>0.0</td>\n",
       "      <td>NaN</td>\n",
       "      <td>0.00</td>\n",
       "      <td>21.88</td>\n",
       "      <td>51.74</td>\n",
       "      <td>37.51</td>\n",
       "    </tr>\n",
       "    <tr>\n",
       "      <th>7</th>\n",
       "      <td>1670697995000</td>\n",
       "      <td>12/10/2022;07:46:35.000 PM</td>\n",
       "      <td>471</td>\n",
       "      <td>D4 Guest</td>\n",
       "      <td>Shift</td>\n",
       "      <td>57.615002</td>\n",
       "      <td>215.0</td>\n",
       "      <td>34.0</td>\n",
       "      <td>29</td>\n",
       "      <td>59</td>\n",
       "      <td>79</td>\n",
       "      <td>14</td>\n",
       "      <td>0.0</td>\n",
       "      <td>NaN</td>\n",
       "      <td>0.00</td>\n",
       "      <td>21.75</td>\n",
       "      <td>46.27</td>\n",
       "      <td>48.18</td>\n",
       "    </tr>\n",
       "    <tr>\n",
       "      <th>11</th>\n",
       "      <td>1670697995000</td>\n",
       "      <td>12/10/2022;07:46:35.000 PM</td>\n",
       "      <td>448</td>\n",
       "      <td>FW TEST</td>\n",
       "      <td>Shift</td>\n",
       "      <td>20.010000</td>\n",
       "      <td>1.0</td>\n",
       "      <td>1.0</td>\n",
       "      <td>0</td>\n",
       "      <td>0</td>\n",
       "      <td>0</td>\n",
       "      <td>0</td>\n",
       "      <td>0.0</td>\n",
       "      <td>NaN</td>\n",
       "      <td>9.93</td>\n",
       "      <td>4.64</td>\n",
       "      <td>0.49</td>\n",
       "      <td>1.47</td>\n",
       "    </tr>\n",
       "  </tbody>\n",
       "</table>\n",
       "</div>"
      ],
      "text/plain": [
       "    Timestamp (ms)   Timestamp in local format  Player ID      Name  \\\n",
       "0    1670697995000  12/10/2022;07:46:35.000 PM        438    D TEST   \n",
       "1    1670697995000  12/10/2022;07:46:35.000 PM        443    D TEST   \n",
       "4    1670697995000  12/10/2022;07:46:35.000 PM        470  D3 Guest   \n",
       "7    1670697995000  12/10/2022;07:46:35.000 PM        471  D4 Guest   \n",
       "11   1670697995000  12/10/2022;07:46:35.000 PM        448   FW TEST   \n",
       "\n",
       "   Event type  Duration (s)  Distance  Distance (speed | Very low)  \\\n",
       "0       Shift     34.707001     114.0                         29.0   \n",
       "1       Shift     43.952999     177.0                         25.0   \n",
       "4       Shift     82.765999     288.0                         45.0   \n",
       "7       Shift     57.615002     215.0                         34.0   \n",
       "11      Shift     20.010000       1.0                          1.0   \n",
       "\n",
       "   Distance (speed | Low) Distance (speed | Medium) Distance (speed | High)  \\\n",
       "0                      15                        25                      36   \n",
       "1                      21                        39                      51   \n",
       "4                      83                        70                      87   \n",
       "7                      29                        59                      79   \n",
       "11                      0                         0                       0   \n",
       "\n",
       "   Distance (speed | Very high)  Distance (speed | Sprint)  \\\n",
       "0                             9                        0.0   \n",
       "1                            36                        4.0   \n",
       "4                             3                        0.0   \n",
       "7                            14                        0.0   \n",
       "11                            0                        0.0   \n",
       "\n",
       "    Distance (speed | 0 - 0 km/h)  Metabolic Power (Ø)  Speed (max.)  \\\n",
       "0                             NaN               337.08         22.60   \n",
       "1                             NaN               413.47         24.34   \n",
       "4                             NaN                 0.00         21.88   \n",
       "7                             NaN                 0.00         21.75   \n",
       "11                            NaN                 9.93          4.64   \n",
       "\n",
       "    Skating Load  Skating Intensity  \n",
       "0          21.67              37.45  \n",
       "1          28.74              39.24  \n",
       "4          51.74              37.51  \n",
       "7          46.27              48.18  \n",
       "11          0.49               1.47  "
      ]
     },
     "execution_count": 3,
     "metadata": {},
     "output_type": "execute_result"
    }
   ],
   "source": [
    "# Definieren des Dateipfads und des Event-Typs\n",
    "file_name = 'data/Events-Match_Test__TEAM_A_vs__TEAM_B-Period_Period_1_Period_Period_2_Period_Period_3.csv'\n",
    "event_type = 'Shifts'\n",
    "\n",
    "# Laden der Daten mit der read_file Funktion aus utils.py\n",
    "df = read_file(file_name, event_type)\n",
    "\n",
    "# Anzeigen der ersten Zeilen des DataFrame zur Überprüfung\n",
    "df.head()"
   ]
  },
  {
   "cell_type": "markdown",
   "metadata": {},
   "source": [
    "## 2. Shift Analysis"
   ]
  },
  {
   "cell_type": "markdown",
   "metadata": {},
   "source": [
    "Nachdem wir einen Überblick über die Shift-Daten gewonnen und diese visuell dargestellt haben, ist der nächste Schritt, tiefer in die Analyse der Shifts einzusteigen. \n",
    "\n",
    "Dieses Kapitel konzentriert sich auf die detaillierte Untersuchung der Shifts, beginnend mit der Bestimmung der optimalen Anzahl von Shifts pro Spieler. Die Analyse der Shift-Länge, der Zeit zwischen den Shifts und der Intensität der einzelnen Shifts ermöglicht es uns, die Belastung und Leistung der Spieler während des Spiels zu verstehen. Die Identifizierung der optimalen Anzahl von Shifts ist ein entscheidender Schritt, um die Daten effektiv zu segmentieren und präzise Einblicke in die Spielstrategien zu gewinnen."
   ]
  },
  {
   "cell_type": "markdown",
   "metadata": {},
   "source": [
    "### 2.1 Optimale Anzahl von Shifts"
   ]
  },
  {
   "cell_type": "markdown",
   "metadata": {},
   "source": [
    "Um die Shifts effektiv zu analysieren, müssen wir zunächst die optimale Anzahl von Shifts bestimmen. Die Funktion `find_optimal_amount_of_shifts` verwendet hierfür eine Kombination aus der Elbow-Methode und K-Means-Clustering, um die ideale Cluster-Anzahl für unsere Shift-Daten zu ermitteln."
   ]
  },
  {
   "cell_type": "code",
   "execution_count": 19,
   "metadata": {},
   "outputs": [
    {
     "name": "stdout",
     "output_type": "stream",
     "text": [
      "NAIVE METHOD\n",
      "Number of rows in dataset = 711\n",
      "Probable number of shifts = 143\n",
      "Optimale Anzahl von Shifts: 143\n"
     ]
    }
   ],
   "source": [
    "from utils import find_optimal_amount_of_shifts\n",
    "\n",
    "# Bestimmen der optimalen Anzahl von Shifts\n",
    "optimal_shifts, data_for_clustering = find_optimal_amount_of_shifts(df, simple=True, verbose=True)\n",
    "\n",
    "print(f\"Optimale Anzahl von Shifts: {optimal_shifts}\")"
   ]
  },
  {
   "cell_type": "markdown",
   "metadata": {},
   "source": [
    "### 2.2 Shift Intensität"
   ]
  },
  {
   "cell_type": "markdown",
   "metadata": {},
   "source": [
    "Die Intensität jedes Shifts gibt uns Aufschluss über die Anstrengung und Leistung der Spieler während ihrer Einsatzzeit. Mit der Funktion `add_sis_column` berechnen wir einen Shift Intensity Score (SIS) für jeden Spieler, der die durchschnittliche Intensität ihrer Shifts widerspiegelt."
   ]
  },
  {
   "cell_type": "code",
   "execution_count": 10,
   "metadata": {},
   "outputs": [
    {
     "data": {
      "text/html": [
       "<div>\n",
       "<style scoped>\n",
       "    .dataframe tbody tr th:only-of-type {\n",
       "        vertical-align: middle;\n",
       "    }\n",
       "\n",
       "    .dataframe tbody tr th {\n",
       "        vertical-align: top;\n",
       "    }\n",
       "\n",
       "    .dataframe thead th {\n",
       "        text-align: right;\n",
       "    }\n",
       "</style>\n",
       "<table border=\"1\" class=\"dataframe\">\n",
       "  <thead>\n",
       "    <tr style=\"text-align: right;\">\n",
       "      <th></th>\n",
       "      <th>Timestamp (ms)</th>\n",
       "      <th>Timestamp in local format</th>\n",
       "      <th>Player ID</th>\n",
       "      <th>Name</th>\n",
       "      <th>Event type</th>\n",
       "      <th>Duration (s)</th>\n",
       "      <th>Distance</th>\n",
       "      <th>Distance (speed | Very low)</th>\n",
       "      <th>Distance (speed | Low)</th>\n",
       "      <th>Distance (speed | Medium)</th>\n",
       "      <th>...</th>\n",
       "      <th>Distance (speed | Very high)</th>\n",
       "      <th>Distance (speed | Sprint)</th>\n",
       "      <th>Distance (speed | 0 - 0 km/h)</th>\n",
       "      <th>Metabolic Power (Ø)</th>\n",
       "      <th>Speed (max.)</th>\n",
       "      <th>Skating Load</th>\n",
       "      <th>Skating Intensity</th>\n",
       "      <th>Shift_Label</th>\n",
       "      <th>Average_Shift_Intensity</th>\n",
       "      <th>SIS</th>\n",
       "    </tr>\n",
       "  </thead>\n",
       "  <tbody>\n",
       "    <tr>\n",
       "      <th>4</th>\n",
       "      <td>1670697995000</td>\n",
       "      <td>12/10/2022;07:46:35.000 PM</td>\n",
       "      <td>470</td>\n",
       "      <td>D3 Guest</td>\n",
       "      <td>Shift</td>\n",
       "      <td>82.765999</td>\n",
       "      <td>288.0</td>\n",
       "      <td>45.0</td>\n",
       "      <td>83</td>\n",
       "      <td>70</td>\n",
       "      <td>...</td>\n",
       "      <td>3</td>\n",
       "      <td>0.0</td>\n",
       "      <td>NaN</td>\n",
       "      <td>0.0</td>\n",
       "      <td>21.88</td>\n",
       "      <td>51.74</td>\n",
       "      <td>37.51</td>\n",
       "      <td>27</td>\n",
       "      <td>41.152857</td>\n",
       "      <td>0.815509</td>\n",
       "    </tr>\n",
       "    <tr>\n",
       "      <th>7</th>\n",
       "      <td>1670697995000</td>\n",
       "      <td>12/10/2022;07:46:35.000 PM</td>\n",
       "      <td>471</td>\n",
       "      <td>D4 Guest</td>\n",
       "      <td>Shift</td>\n",
       "      <td>57.615002</td>\n",
       "      <td>215.0</td>\n",
       "      <td>34.0</td>\n",
       "      <td>29</td>\n",
       "      <td>59</td>\n",
       "      <td>...</td>\n",
       "      <td>14</td>\n",
       "      <td>0.0</td>\n",
       "      <td>NaN</td>\n",
       "      <td>0.0</td>\n",
       "      <td>21.75</td>\n",
       "      <td>46.27</td>\n",
       "      <td>48.18</td>\n",
       "      <td>27</td>\n",
       "      <td>41.152857</td>\n",
       "      <td>0.994363</td>\n",
       "    </tr>\n",
       "    <tr>\n",
       "      <th>18</th>\n",
       "      <td>1670697995000</td>\n",
       "      <td>12/10/2022;07:46:35.000 PM</td>\n",
       "      <td>478</td>\n",
       "      <td>FW1 Guest</td>\n",
       "      <td>Shift</td>\n",
       "      <td>56.131001</td>\n",
       "      <td>254.0</td>\n",
       "      <td>24.0</td>\n",
       "      <td>34</td>\n",
       "      <td>19</td>\n",
       "      <td>...</td>\n",
       "      <td>39</td>\n",
       "      <td>101.0</td>\n",
       "      <td>NaN</td>\n",
       "      <td>0.0</td>\n",
       "      <td>27.57</td>\n",
       "      <td>43.10</td>\n",
       "      <td>46.07</td>\n",
       "      <td>27</td>\n",
       "      <td>41.152857</td>\n",
       "      <td>0.876735</td>\n",
       "    </tr>\n",
       "    <tr>\n",
       "      <th>19</th>\n",
       "      <td>1670697995000</td>\n",
       "      <td>12/10/2022;07:46:35.000 PM</td>\n",
       "      <td>479</td>\n",
       "      <td>FW2 Guest</td>\n",
       "      <td>Shift</td>\n",
       "      <td>33.981998</td>\n",
       "      <td>109.0</td>\n",
       "      <td>26.0</td>\n",
       "      <td>10</td>\n",
       "      <td>21</td>\n",
       "      <td>...</td>\n",
       "      <td>7</td>\n",
       "      <td>15.0</td>\n",
       "      <td>NaN</td>\n",
       "      <td>0.0</td>\n",
       "      <td>26.79</td>\n",
       "      <td>25.60</td>\n",
       "      <td>45.19</td>\n",
       "      <td>27</td>\n",
       "      <td>41.152857</td>\n",
       "      <td>0.794451</td>\n",
       "    </tr>\n",
       "    <tr>\n",
       "      <th>21</th>\n",
       "      <td>1670697995000</td>\n",
       "      <td>12/10/2022;07:46:35.000 PM</td>\n",
       "      <td>480</td>\n",
       "      <td>FW3 Guest</td>\n",
       "      <td>Shift</td>\n",
       "      <td>33.499001</td>\n",
       "      <td>142.0</td>\n",
       "      <td>10.0</td>\n",
       "      <td>8</td>\n",
       "      <td>35</td>\n",
       "      <td>...</td>\n",
       "      <td>40</td>\n",
       "      <td>28.0</td>\n",
       "      <td>NaN</td>\n",
       "      <td>0.0</td>\n",
       "      <td>28.38</td>\n",
       "      <td>21.48</td>\n",
       "      <td>38.47</td>\n",
       "      <td>27</td>\n",
       "      <td>41.152857</td>\n",
       "      <td>1.031026</td>\n",
       "    </tr>\n",
       "  </tbody>\n",
       "</table>\n",
       "<p>5 rows × 21 columns</p>\n",
       "</div>"
      ],
      "text/plain": [
       "    Timestamp (ms)   Timestamp in local format  Player ID       Name  \\\n",
       "4    1670697995000  12/10/2022;07:46:35.000 PM        470   D3 Guest   \n",
       "7    1670697995000  12/10/2022;07:46:35.000 PM        471   D4 Guest   \n",
       "18   1670697995000  12/10/2022;07:46:35.000 PM        478  FW1 Guest   \n",
       "19   1670697995000  12/10/2022;07:46:35.000 PM        479  FW2 Guest   \n",
       "21   1670697995000  12/10/2022;07:46:35.000 PM        480  FW3 Guest   \n",
       "\n",
       "   Event type  Duration (s)  Distance  Distance (speed | Very low)  \\\n",
       "4       Shift     82.765999     288.0                         45.0   \n",
       "7       Shift     57.615002     215.0                         34.0   \n",
       "18      Shift     56.131001     254.0                         24.0   \n",
       "19      Shift     33.981998     109.0                         26.0   \n",
       "21      Shift     33.499001     142.0                         10.0   \n",
       "\n",
       "   Distance (speed | Low) Distance (speed | Medium)  ...  \\\n",
       "4                      83                        70  ...   \n",
       "7                      29                        59  ...   \n",
       "18                     34                        19  ...   \n",
       "19                     10                        21  ...   \n",
       "21                      8                        35  ...   \n",
       "\n",
       "   Distance (speed | Very high) Distance (speed | Sprint)  \\\n",
       "4                             3                       0.0   \n",
       "7                            14                       0.0   \n",
       "18                           39                     101.0   \n",
       "19                            7                      15.0   \n",
       "21                           40                      28.0   \n",
       "\n",
       "    Distance (speed | 0 - 0 km/h)  Metabolic Power (Ø)  Speed (max.)  \\\n",
       "4                             NaN                  0.0         21.88   \n",
       "7                             NaN                  0.0         21.75   \n",
       "18                            NaN                  0.0         27.57   \n",
       "19                            NaN                  0.0         26.79   \n",
       "21                            NaN                  0.0         28.38   \n",
       "\n",
       "    Skating Load  Skating Intensity  Shift_Label  Average_Shift_Intensity  \\\n",
       "4          51.74              37.51           27                41.152857   \n",
       "7          46.27              48.18           27                41.152857   \n",
       "18         43.10              46.07           27                41.152857   \n",
       "19         25.60              45.19           27                41.152857   \n",
       "21         21.48              38.47           27                41.152857   \n",
       "\n",
       "         SIS  \n",
       "4   0.815509  \n",
       "7   0.994363  \n",
       "18  0.876735  \n",
       "19  0.794451  \n",
       "21  1.031026  \n",
       "\n",
       "[5 rows x 21 columns]"
      ]
     },
     "execution_count": 10,
     "metadata": {},
     "output_type": "execute_result"
    }
   ],
   "source": [
    "from utils import add_sis_column\n",
    "\n",
    "# Berechnung des Shift Intensity Score (SIS) für jeden Spieler\n",
    "df_with_sis = add_sis_column(df)\n",
    "\n",
    "# Optional: Anzeigen der ersten Zeilen des angereicherten DataFrames zur Überprüfung\n",
    "df_with_sis.head()\n"
   ]
  },
  {
   "cell_type": "markdown",
   "metadata": {},
   "source": [
    "## 3. Data Visualisation"
   ]
  },
  {
   "cell_type": "markdown",
   "metadata": {},
   "source": [
    "Bevor wir mit der Visualisierung beginnen, bereiten wir unseren DataFrame `df` vor, um sicherzustellen, dass er alle erforderlichen Informationen enthält. Dies umfasst Spieler-IDs, Zeitstempel für jeden Shift, die Dauer der Shifts und die entsprechenden Intensitäten."
   ]
  },
  {
   "cell_type": "markdown",
   "metadata": {},
   "source": [
    "Um eine konsistente Reihenfolge der Shift-Labels zu gewährleisten, wenden wir die Funktion `order_block_labels` auf unseren DataFrame an. Dies hilft uns, die Visualisierungen klarer und leichter interpretierbar zu machen.\n"
   ]
  },
  {
   "cell_type": "code",
   "execution_count": 14,
   "metadata": {},
   "outputs": [],
   "source": [
    "from utils import order_block_labels\n",
    "\n",
    "df_ordered = order_block_labels(df_with_sis)"
   ]
  },
  {
   "cell_type": "markdown",
   "metadata": {},
   "source": [
    "Mit der Funktion `plot_shifts_with_intensity` erstellen wir eine Visualisierung, die die Shifts aller Spieler zusammen mit der Intensität jedes individuellen Shifts zeigt. Die Funktion `get_colour` wird verwendet, um die Intensität der Shifts farblich zu kodieren, was uns hilft, die physische Belastung der Spieler visuell zu erfassen.\n",
    "\n",
    "Diese Visualisierung hilft uns, Muster in den Spielerwechseln und deren Auswirkungen auf die Spielintensität zu erkennen."
   ]
  },
  {
   "cell_type": "code",
   "execution_count": 20,
   "metadata": {},
   "outputs": [
    {
     "name": "stdout",
     "output_type": "stream",
     "text": [
      "NAIVE METHOD\n",
      "Number of rows in dataset = 57\n",
      "Probable number of shifts = 12\n",
      "Summary of all Shifts. Points are the individual players. Colors are their blocks.\n"
     ]
    },
    {
     "data": {
      "image/png": "[encoded data removed]",
      "text/plain": [
       "<Figure size 640x480 with 1 Axes>"
      ]
     },
     "metadata": {},
     "output_type": "display_data"
    },
    {
     "data": {
      "image/png": "[encoded data removed]",
      "text/plain": [
       "<Figure size 640x480 with 2 Axes>"
      ]
     },
     "metadata": {},
     "output_type": "display_data"
    }
   ],
   "source": [
    "from utils import generate_block_config, plot_shifts_with_intensity\n",
    "\n",
    "# Generieren der Block-Konfiguration für die Visualisierung\n",
    "block_config = generate_block_config(\n",
    "    naive=True,  # Oder False, je nach Analyse\n",
    "    verbose=True,\n",
    "    team_name=\"Guest\",\n",
    "    file_name_raw_data=file_name,\n",
    "    file_name_save_plot=None  # Optional\n",
    ")\n",
    "\n",
    "# Erstellen der Visualisierung\n",
    "df_plot, fig = plot_shifts_with_intensity(\n",
    "    df_ordered, \n",
    "    block_config,\n",
    "    time_window_start=0,  # Startzeit in Spielminuten\n",
    "    time_window_duration=10,  # Dauer des zu visualisierenden Fensters in Minuten\n",
    "    intensity_indicator=\"Skating Intensity\"  # Die genaue Spalte in deinem df\n",
    ")\n"
   ]
  },
  {
   "cell_type": "markdown",
   "metadata": {},
   "source": []
  },
  {
   "cell_type": "markdown",
   "metadata": {},
   "source": [
    "## Abschluss und Ausblick"
   ]
  },
  {
   "cell_type": "markdown",
   "metadata": {},
   "source": [
    "Die Analyse der Shift-Daten bietet wertvolle Einblicke in die physische Leistungsfähigkeit und das strategische Vorgehen der Spieler im Eishockey. Durch die Anwendung von Funktionen aus `utils.py` können die Daten effizient geladen, verarbeitet und visualisiert werden. Zukünftige Untersuchungen könnten weitere Metriken und Spielphasen einbeziehen, um die Analyse noch detaillierter zu gestalten.\n"
   ]
  }
 ],
 "metadata": {
  "kernelspec": {
   "display_name": "Venv",
   "language": "python",
   "name": "python3"
  },
  "language_info": {
   "codemirror_mode": {
    "name": "ipython",
    "version": 3
   },
   "file_extension": ".py",
   "mimetype": "text/x-python",
   "name": "python",
   "nbconvert_exporter": "python",
   "pygments_lexer": "ipython3",
   "version": "3.11.5"
  }
 },
 "nbformat": 4,
 "nbformat_minor": 2
}
