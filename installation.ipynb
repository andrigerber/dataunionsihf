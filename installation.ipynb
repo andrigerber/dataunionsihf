{
 "cells": [
  {
   "cell_type": "code",
   "execution_count": null,
   "metadata": {},
   "outputs": [],
   "source": []
  },
  {
   "cell_type": "markdown",
   "metadata": {},
   "source": [
    "Test Notebook"
   ]
  },
  {
   "cell_type": "markdown",
   "metadata": {},
   "source": [
    "### Step 2: Setup-remote"
   ]
  },
  {
   "cell_type": "markdown",
   "metadata": {},
   "source": [
    "https://github.com/oceanprotocol/ocean.py/blob/main/READMEs/setup-remote.md"
   ]
  },
  {
   "cell_type": "code",
   "execution_count": 2,
   "metadata": {},
   "outputs": [
    {
     "name": "stdout",
     "output_type": "stream",
     "text": [
      "\n",
      "REMOTE_TEST_PRIVATE_KEY1=0xb54acfac67bd484435d60af49804e062645f6f3c7cc67a334cd4f9e312b3bea6, ADDRESS1=0xAd4Cf90611ceD79cf71aDf1f5a61aA613F2199bA\n",
      "REMOTE_TEST_PRIVATE_KEY2=0x5f7f108ad4898898ba5aa33131f4fcd6209411c5afe6b30fb97ec97151cd163b, ADDRESS2=0x3de39598f7FacEC0Ed95597809007d27da1DBed8\n",
      "\n"
     ]
    }
   ],
   "source": [
    "#create evm accounts (one time)\n",
    "\n",
    "from eth_account.account import Account\n",
    "account1 = Account.create()\n",
    "account2 = Account.create()\n",
    "\n",
    "print(f\"\"\"\n",
    "REMOTE_TEST_PRIVATE_KEY1={account1.key.hex()}, ADDRESS1={account1.address}\n",
    "REMOTE_TEST_PRIVATE_KEY2={account2.key.hex()}, ADDRESS2={account2.address}\n",
    "\"\"\")"
   ]
  },
  {
   "cell_type": "markdown",
   "metadata": {},
   "source": [
    "REMOTE_TEST_PRIVATE_KEY1=0xb54acfac67bd484435d60af49804e062645f6f3c7cc67a334cd4f9e312b3bea6, ADDRESS1=0xAd4Cf90611ceD79cf71aDf1f5a61aA613F2199bA\n",
    "REMOTE_TEST_PRIVATE_KEY2=0x5f7f108ad4898898ba5aa33131f4fcd6209411c5afe6b30fb97ec97151cd163b, ADDRESS2=0x3de39598f7FacEC0Ed95597809007d27da1DBed8"
   ]
  },
  {
   "cell_type": "code",
   "execution_count": null,
   "metadata": {},
   "outputs": [],
   "source": []
  }
 ],
 "metadata": {
  "kernelspec": {
   "display_name": "Venv",
   "language": "python",
   "name": "python3"
  },
  "language_info": {
   "codemirror_mode": {
    "name": "ipython",
    "version": 3
   },
   "file_extension": ".py",
   "mimetype": "text/x-python",
   "name": "python",
   "nbconvert_exporter": "python",
   "pygments_lexer": "ipython3",
   "version": "3.11.5"
  }
 },
 "nbformat": 4,
 "nbformat_minor": 2
}
